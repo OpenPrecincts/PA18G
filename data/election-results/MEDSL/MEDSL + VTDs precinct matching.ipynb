{
 "cells": [
  {
   "cell_type": "code",
   "execution_count": 3,
   "metadata": {},
   "outputs": [],
   "source": [
    "# Helper Functions\n",
    "import pandas as pd\n",
    "import geopandas as gpd\n",
    "from matplotlib import pyplot as plt\n",
    "from reference_data import (\n",
    "    geoid_to_county_name,\n",
    "    state_to_fips,\n",
    "    state_abbreviation_to_state_name,\n",
    "    state_fip_to_county_to_geoid,\n",
    ")\n",
    "pa_fips_code = str(state_to_fips['Pennsylvania']).zfill(2)\n",
    "def get_county_name_pa(county_fips):\n",
    "    geoid = pa_fips_code + str(county_fips).zfill(3)\n",
    "    assert(len(geoid) == 5)\n",
    "    return geoid_to_county_name[geoid]\n",
    "\n",
    "county_to_geoid_pa = state_fip_to_county_to_geoid[int(pa_fips_code)]\n",
    "def get_geoid_pa(county_name):\n",
    "    return county_to_geoid_pa[county_name]"
   ]
  },
  {
   "cell_type": "markdown",
   "metadata": {},
   "source": [
    "## Looking for similarities in Precinct Names\n",
    "Want to find a way to relate the precinct names of the cenus partnership files to the names of the precincts in the election results from MEDSL or Open Elections\n",
    "\n",
    "### MEDSL\n",
    "#### Validation/ Sanity Check for MEDSL results"
   ]
  },
  {
   "cell_type": "code",
   "execution_count": 4,
   "metadata": {},
   "outputs": [
    {
     "name": "stderr",
     "output_type": "stream",
     "text": [
      "/usr/local/lib/python3.7/site-packages/ipykernel_launcher.py:4: SettingWithCopyWarning: \n",
      "A value is trying to be set on a copy of a slice from a DataFrame.\n",
      "Try using .loc[row_indexer,col_indexer] = value instead\n",
      "\n",
      "See the caveats in the documentation: https://pandas.pydata.org/pandas-docs/stable/user_guide/indexing.html#returning-a-view-versus-a-copy\n",
      "  after removing the cwd from sys.path.\n",
      "/usr/local/lib/python3.7/site-packages/ipykernel_launcher.py:5: SettingWithCopyWarning: \n",
      "A value is trying to be set on a copy of a slice from a DataFrame.\n",
      "Try using .loc[row_indexer,col_indexer] = value instead\n",
      "\n",
      "See the caveats in the documentation: https://pandas.pydata.org/pandas-docs/stable/user_guide/indexing.html#returning-a-view-versus-a-copy\n",
      "  \"\"\"\n",
      "/usr/local/lib/python3.7/site-packages/ipykernel_launcher.py:6: SettingWithCopyWarning: \n",
      "A value is trying to be set on a copy of a slice from a DataFrame.\n",
      "Try using .loc[row_indexer,col_indexer] = value instead\n",
      "\n",
      "See the caveats in the documentation: https://pandas.pydata.org/pandas-docs/stable/user_guide/indexing.html#returning-a-view-versus-a-copy\n",
      "  \n"
     ]
    },
    {
     "data": {
      "text/html": [
       "<div>\n",
       "<style scoped>\n",
       "    .dataframe tbody tr th:only-of-type {\n",
       "        vertical-align: middle;\n",
       "    }\n",
       "\n",
       "    .dataframe tbody tr th {\n",
       "        vertical-align: top;\n",
       "    }\n",
       "\n",
       "    .dataframe thead th {\n",
       "        text-align: right;\n",
       "    }\n",
       "</style>\n",
       "<table border=\"1\" class=\"dataframe\">\n",
       "  <thead>\n",
       "    <tr style=\"text-align: right;\">\n",
       "      <th></th>\n",
       "      <th>precinct</th>\n",
       "      <th>prec_vtd</th>\n",
       "      <th>office</th>\n",
       "      <th>party</th>\n",
       "      <th>mode</th>\n",
       "      <th>votes</th>\n",
       "      <th>jurisdiction</th>\n",
       "      <th>county</th>\n",
       "      <th>COUNTYFP</th>\n",
       "      <th>candidate</th>\n",
       "      <th>...</th>\n",
       "      <th>dataverse</th>\n",
       "      <th>year</th>\n",
       "      <th>stage</th>\n",
       "      <th>state</th>\n",
       "      <th>special</th>\n",
       "      <th>writein</th>\n",
       "      <th>state_po</th>\n",
       "      <th>state_fips</th>\n",
       "      <th>state_cen</th>\n",
       "      <th>state_ic</th>\n",
       "    </tr>\n",
       "  </thead>\n",
       "  <tbody>\n",
       "    <tr>\n",
       "      <th>9816506</th>\n",
       "      <td>10</td>\n",
       "      <td>000010</td>\n",
       "      <td>US Senate</td>\n",
       "      <td>democrat</td>\n",
       "      <td>total</td>\n",
       "      <td>120</td>\n",
       "      <td>Adams</td>\n",
       "      <td>Adams County</td>\n",
       "      <td>42001</td>\n",
       "      <td>Robert P Casey Jr</td>\n",
       "      <td>...</td>\n",
       "      <td>senate</td>\n",
       "      <td>2018</td>\n",
       "      <td>gen</td>\n",
       "      <td>Pennsylvania</td>\n",
       "      <td>False</td>\n",
       "      <td>False</td>\n",
       "      <td>PA</td>\n",
       "      <td>42</td>\n",
       "      <td>23</td>\n",
       "      <td>14</td>\n",
       "    </tr>\n",
       "    <tr>\n",
       "      <th>9816507</th>\n",
       "      <td>20</td>\n",
       "      <td>000020</td>\n",
       "      <td>US Senate</td>\n",
       "      <td>democrat</td>\n",
       "      <td>total</td>\n",
       "      <td>151</td>\n",
       "      <td>Adams</td>\n",
       "      <td>Adams County</td>\n",
       "      <td>42001</td>\n",
       "      <td>Robert P Casey Jr</td>\n",
       "      <td>...</td>\n",
       "      <td>senate</td>\n",
       "      <td>2018</td>\n",
       "      <td>gen</td>\n",
       "      <td>Pennsylvania</td>\n",
       "      <td>False</td>\n",
       "      <td>False</td>\n",
       "      <td>PA</td>\n",
       "      <td>42</td>\n",
       "      <td>23</td>\n",
       "      <td>14</td>\n",
       "    </tr>\n",
       "    <tr>\n",
       "      <th>9816508</th>\n",
       "      <td>30</td>\n",
       "      <td>000030</td>\n",
       "      <td>US Senate</td>\n",
       "      <td>democrat</td>\n",
       "      <td>total</td>\n",
       "      <td>74</td>\n",
       "      <td>Adams</td>\n",
       "      <td>Adams County</td>\n",
       "      <td>42001</td>\n",
       "      <td>Robert P Casey Jr</td>\n",
       "      <td>...</td>\n",
       "      <td>senate</td>\n",
       "      <td>2018</td>\n",
       "      <td>gen</td>\n",
       "      <td>Pennsylvania</td>\n",
       "      <td>False</td>\n",
       "      <td>False</td>\n",
       "      <td>PA</td>\n",
       "      <td>42</td>\n",
       "      <td>23</td>\n",
       "      <td>14</td>\n",
       "    </tr>\n",
       "    <tr>\n",
       "      <th>9816509</th>\n",
       "      <td>40</td>\n",
       "      <td>000040</td>\n",
       "      <td>US Senate</td>\n",
       "      <td>democrat</td>\n",
       "      <td>total</td>\n",
       "      <td>289</td>\n",
       "      <td>Adams</td>\n",
       "      <td>Adams County</td>\n",
       "      <td>42001</td>\n",
       "      <td>Robert P Casey Jr</td>\n",
       "      <td>...</td>\n",
       "      <td>senate</td>\n",
       "      <td>2018</td>\n",
       "      <td>gen</td>\n",
       "      <td>Pennsylvania</td>\n",
       "      <td>False</td>\n",
       "      <td>False</td>\n",
       "      <td>PA</td>\n",
       "      <td>42</td>\n",
       "      <td>23</td>\n",
       "      <td>14</td>\n",
       "    </tr>\n",
       "    <tr>\n",
       "      <th>9816510</th>\n",
       "      <td>50</td>\n",
       "      <td>000050</td>\n",
       "      <td>US Senate</td>\n",
       "      <td>democrat</td>\n",
       "      <td>total</td>\n",
       "      <td>152</td>\n",
       "      <td>Adams</td>\n",
       "      <td>Adams County</td>\n",
       "      <td>42001</td>\n",
       "      <td>Robert P Casey Jr</td>\n",
       "      <td>...</td>\n",
       "      <td>senate</td>\n",
       "      <td>2018</td>\n",
       "      <td>gen</td>\n",
       "      <td>Pennsylvania</td>\n",
       "      <td>False</td>\n",
       "      <td>False</td>\n",
       "      <td>PA</td>\n",
       "      <td>42</td>\n",
       "      <td>23</td>\n",
       "      <td>14</td>\n",
       "    </tr>\n",
       "  </tbody>\n",
       "</table>\n",
       "<p>5 rows × 21 columns</p>\n",
       "</div>"
      ],
      "text/plain": [
       "        precinct prec_vtd     office     party   mode  votes jurisdiction  \\\n",
       "9816506       10   000010  US Senate  democrat  total    120        Adams   \n",
       "9816507       20   000020  US Senate  democrat  total    151        Adams   \n",
       "9816508       30   000030  US Senate  democrat  total     74        Adams   \n",
       "9816509       40   000040  US Senate  democrat  total    289        Adams   \n",
       "9816510       50   000050  US Senate  democrat  total    152        Adams   \n",
       "\n",
       "               county COUNTYFP          candidate  ... dataverse  year  stage  \\\n",
       "9816506  Adams County    42001  Robert P Casey Jr  ...    senate  2018    gen   \n",
       "9816507  Adams County    42001  Robert P Casey Jr  ...    senate  2018    gen   \n",
       "9816508  Adams County    42001  Robert P Casey Jr  ...    senate  2018    gen   \n",
       "9816509  Adams County    42001  Robert P Casey Jr  ...    senate  2018    gen   \n",
       "9816510  Adams County    42001  Robert P Casey Jr  ...    senate  2018    gen   \n",
       "\n",
       "                state special  writein state_po state_fips  state_cen  \\\n",
       "9816506  Pennsylvania   False    False       PA         42         23   \n",
       "9816507  Pennsylvania   False    False       PA         42         23   \n",
       "9816508  Pennsylvania   False    False       PA         42         23   \n",
       "9816509  Pennsylvania   False    False       PA         42         23   \n",
       "9816510  Pennsylvania   False    False       PA         42         23   \n",
       "\n",
       "         state_ic  \n",
       "9816506        14  \n",
       "9816507        14  \n",
       "9816508        14  \n",
       "9816509        14  \n",
       "9816510        14  \n",
       "\n",
       "[5 rows x 21 columns]"
      ]
     },
     "execution_count": 4,
     "metadata": {},
     "output_type": "execute_result"
    }
   ],
   "source": [
    "state_df_piv_mit = pd.read_csv('data/MEDSL/PA_G18_MIT.csv')\n",
    "national_df_mit = pd.read_csv('data/MEDSL/precinct_2018.csv', encoding = \"ISO-8859-1\")\n",
    "state_df_mit = national_df_mit.loc[national_df_mit.state == 'Pennsylvania']\n",
    "state_df_mit['county'] = state_df_mit['county'].map(str) + ' County'\n",
    "state_df_mit['COUNTYFP'] = state_df_mit['county'].map(get_geoid_pa)\n",
    "state_df_mit['prec_vtd'] = state_df_mit['precinct'].apply(lambda x: str(x).zfill(6))\n",
    "state_df_mit = state_df_mit[['precinct', 'prec_vtd', 'office', 'party', 'mode', 'votes', 'jurisdiction',\n",
    "       'county', 'COUNTYFP', 'candidate', 'district', 'dataverse', 'year',\n",
    "       'stage', 'state', 'special', 'writein', 'state_po', 'state_fips',\n",
    "       'state_cen', 'state_ic']]\n",
    "state_df_mit.head()"
   ]
  },
  {
   "cell_type": "code",
   "execution_count": 5,
   "metadata": {},
   "outputs": [
    {
     "data": {
      "text/html": [
       "<div>\n",
       "<style scoped>\n",
       "    .dataframe tbody tr th:only-of-type {\n",
       "        vertical-align: middle;\n",
       "    }\n",
       "\n",
       "    .dataframe tbody tr th {\n",
       "        vertical-align: top;\n",
       "    }\n",
       "\n",
       "    .dataframe thead th {\n",
       "        text-align: right;\n",
       "    }\n",
       "</style>\n",
       "<table border=\"1\" class=\"dataframe\">\n",
       "  <thead>\n",
       "    <tr style=\"text-align: right;\">\n",
       "      <th></th>\n",
       "      <th>prec_vtd</th>\n",
       "      <th>candidate</th>\n",
       "      <th>votes</th>\n",
       "    </tr>\n",
       "  </thead>\n",
       "  <tbody>\n",
       "    <tr>\n",
       "      <th>9822402</th>\n",
       "      <td>000130</td>\n",
       "      <td>Thomas W Wolf</td>\n",
       "      <td>223</td>\n",
       "    </tr>\n",
       "    <tr>\n",
       "      <th>9822403</th>\n",
       "      <td>000140</td>\n",
       "      <td>Thomas W Wolf</td>\n",
       "      <td>454</td>\n",
       "    </tr>\n",
       "    <tr>\n",
       "      <th>9823726</th>\n",
       "      <td>000130</td>\n",
       "      <td>Scott R Wagner</td>\n",
       "      <td>120</td>\n",
       "    </tr>\n",
       "    <tr>\n",
       "      <th>9823727</th>\n",
       "      <td>000140</td>\n",
       "      <td>Scott R Wagner</td>\n",
       "      <td>197</td>\n",
       "    </tr>\n",
       "    <tr>\n",
       "      <th>9825050</th>\n",
       "      <td>000130</td>\n",
       "      <td>Paul Glover</td>\n",
       "      <td>1</td>\n",
       "    </tr>\n",
       "    <tr>\n",
       "      <th>9825051</th>\n",
       "      <td>000140</td>\n",
       "      <td>Paul Glover</td>\n",
       "      <td>2</td>\n",
       "    </tr>\n",
       "    <tr>\n",
       "      <th>9826374</th>\n",
       "      <td>000130</td>\n",
       "      <td>Kenneth V Krawchuk</td>\n",
       "      <td>5</td>\n",
       "    </tr>\n",
       "    <tr>\n",
       "      <th>9826375</th>\n",
       "      <td>000140</td>\n",
       "      <td>Kenneth V Krawchuk</td>\n",
       "      <td>5</td>\n",
       "    </tr>\n",
       "  </tbody>\n",
       "</table>\n",
       "</div>"
      ],
      "text/plain": [
       "        prec_vtd           candidate  votes\n",
       "9822402   000130       Thomas W Wolf    223\n",
       "9822403   000140       Thomas W Wolf    454\n",
       "9823726   000130      Scott R Wagner    120\n",
       "9823727   000140      Scott R Wagner    197\n",
       "9825050   000130         Paul Glover      1\n",
       "9825051   000140         Paul Glover      2\n",
       "9826374   000130  Kenneth V Krawchuk      5\n",
       "9826375   000140  Kenneth V Krawchuk      5"
      ]
     },
     "execution_count": 5,
     "metadata": {},
     "output_type": "execute_result"
    }
   ],
   "source": [
    "df = state_df_mit\n",
    "df[(df.county == 'Allegheny County') & (df.prec_vtd.isin({'000130', '000140', '000151', '000161'})) & (df.office == 'Governor')][['prec_vtd', 'candidate', 'votes']]"
   ]
  },
  {
   "cell_type": "code",
   "execution_count": 6,
   "metadata": {},
   "outputs": [
    {
     "data": {
      "text/html": [
       "<div>\n",
       "<style scoped>\n",
       "    .dataframe tbody tr th:only-of-type {\n",
       "        vertical-align: middle;\n",
       "    }\n",
       "\n",
       "    .dataframe tbody tr th {\n",
       "        vertical-align: top;\n",
       "    }\n",
       "\n",
       "    .dataframe thead th {\n",
       "        text-align: right;\n",
       "    }\n",
       "</style>\n",
       "<table border=\"1\" class=\"dataframe\">\n",
       "  <thead>\n",
       "    <tr style=\"text-align: right;\">\n",
       "      <th></th>\n",
       "      <th>precinct</th>\n",
       "      <th>G18DStSen</th>\n",
       "      <th>G18DHOR</th>\n",
       "      <th>G18DSEN</th>\n",
       "      <th>votes green State Senate</th>\n",
       "      <th>votes green US Senate</th>\n",
       "      <th>G18LStSen</th>\n",
       "      <th>G18LHOR</th>\n",
       "      <th>votes libertarian US Senate</th>\n",
       "      <th>G18RStSen</th>\n",
       "      <th>G18RHOR</th>\n",
       "      <th>G18RSEN</th>\n",
       "    </tr>\n",
       "  </thead>\n",
       "  <tbody>\n",
       "    <tr>\n",
       "      <th>0</th>\n",
       "      <td>Adams,10</td>\n",
       "      <td>0.0</td>\n",
       "      <td>108.0</td>\n",
       "      <td>120.0</td>\n",
       "      <td>0.0</td>\n",
       "      <td>2.0</td>\n",
       "      <td>0.0</td>\n",
       "      <td>0.0</td>\n",
       "      <td>5.0</td>\n",
       "      <td>0.0</td>\n",
       "      <td>201.0</td>\n",
       "      <td>183.0</td>\n",
       "    </tr>\n",
       "    <tr>\n",
       "      <th>1</th>\n",
       "      <td>Adams,100</td>\n",
       "      <td>0.0</td>\n",
       "      <td>421.0</td>\n",
       "      <td>477.0</td>\n",
       "      <td>0.0</td>\n",
       "      <td>8.0</td>\n",
       "      <td>0.0</td>\n",
       "      <td>0.0</td>\n",
       "      <td>6.0</td>\n",
       "      <td>0.0</td>\n",
       "      <td>921.0</td>\n",
       "      <td>863.0</td>\n",
       "    </tr>\n",
       "    <tr>\n",
       "      <th>2</th>\n",
       "      <td>Adams,110</td>\n",
       "      <td>0.0</td>\n",
       "      <td>455.0</td>\n",
       "      <td>495.0</td>\n",
       "      <td>0.0</td>\n",
       "      <td>3.0</td>\n",
       "      <td>0.0</td>\n",
       "      <td>0.0</td>\n",
       "      <td>8.0</td>\n",
       "      <td>0.0</td>\n",
       "      <td>499.0</td>\n",
       "      <td>456.0</td>\n",
       "    </tr>\n",
       "    <tr>\n",
       "      <th>3</th>\n",
       "      <td>Adams,120</td>\n",
       "      <td>0.0</td>\n",
       "      <td>181.0</td>\n",
       "      <td>210.0</td>\n",
       "      <td>0.0</td>\n",
       "      <td>6.0</td>\n",
       "      <td>0.0</td>\n",
       "      <td>0.0</td>\n",
       "      <td>8.0</td>\n",
       "      <td>0.0</td>\n",
       "      <td>489.0</td>\n",
       "      <td>448.0</td>\n",
       "    </tr>\n",
       "    <tr>\n",
       "      <th>4</th>\n",
       "      <td>Adams,130</td>\n",
       "      <td>0.0</td>\n",
       "      <td>380.0</td>\n",
       "      <td>421.0</td>\n",
       "      <td>0.0</td>\n",
       "      <td>5.0</td>\n",
       "      <td>0.0</td>\n",
       "      <td>0.0</td>\n",
       "      <td>17.0</td>\n",
       "      <td>0.0</td>\n",
       "      <td>494.0</td>\n",
       "      <td>436.0</td>\n",
       "    </tr>\n",
       "    <tr>\n",
       "      <th>...</th>\n",
       "      <td>...</td>\n",
       "      <td>...</td>\n",
       "      <td>...</td>\n",
       "      <td>...</td>\n",
       "      <td>...</td>\n",
       "      <td>...</td>\n",
       "      <td>...</td>\n",
       "      <td>...</td>\n",
       "      <td>...</td>\n",
       "      <td>...</td>\n",
       "      <td>...</td>\n",
       "      <td>...</td>\n",
       "    </tr>\n",
       "    <tr>\n",
       "      <th>9178</th>\n",
       "      <td>York,950</td>\n",
       "      <td>860.0</td>\n",
       "      <td>1016.0</td>\n",
       "      <td>1052.0</td>\n",
       "      <td>0.0</td>\n",
       "      <td>16.0</td>\n",
       "      <td>0.0</td>\n",
       "      <td>0.0</td>\n",
       "      <td>24.0</td>\n",
       "      <td>1811.0</td>\n",
       "      <td>1655.0</td>\n",
       "      <td>1586.0</td>\n",
       "    </tr>\n",
       "    <tr>\n",
       "      <th>9179</th>\n",
       "      <td>York,960</td>\n",
       "      <td>256.0</td>\n",
       "      <td>285.0</td>\n",
       "      <td>283.0</td>\n",
       "      <td>0.0</td>\n",
       "      <td>12.0</td>\n",
       "      <td>0.0</td>\n",
       "      <td>0.0</td>\n",
       "      <td>18.0</td>\n",
       "      <td>586.0</td>\n",
       "      <td>565.0</td>\n",
       "      <td>529.0</td>\n",
       "    </tr>\n",
       "    <tr>\n",
       "      <th>9180</th>\n",
       "      <td>York,970</td>\n",
       "      <td>0.0</td>\n",
       "      <td>560.0</td>\n",
       "      <td>602.0</td>\n",
       "      <td>0.0</td>\n",
       "      <td>14.0</td>\n",
       "      <td>0.0</td>\n",
       "      <td>0.0</td>\n",
       "      <td>34.0</td>\n",
       "      <td>0.0</td>\n",
       "      <td>1506.0</td>\n",
       "      <td>1423.0</td>\n",
       "    </tr>\n",
       "    <tr>\n",
       "      <th>9181</th>\n",
       "      <td>York,980</td>\n",
       "      <td>0.0</td>\n",
       "      <td>234.0</td>\n",
       "      <td>263.0</td>\n",
       "      <td>0.0</td>\n",
       "      <td>6.0</td>\n",
       "      <td>0.0</td>\n",
       "      <td>0.0</td>\n",
       "      <td>11.0</td>\n",
       "      <td>0.0</td>\n",
       "      <td>806.0</td>\n",
       "      <td>756.0</td>\n",
       "    </tr>\n",
       "    <tr>\n",
       "      <th>9182</th>\n",
       "      <td>York,990</td>\n",
       "      <td>0.0</td>\n",
       "      <td>36.0</td>\n",
       "      <td>39.0</td>\n",
       "      <td>0.0</td>\n",
       "      <td>2.0</td>\n",
       "      <td>0.0</td>\n",
       "      <td>0.0</td>\n",
       "      <td>4.0</td>\n",
       "      <td>0.0</td>\n",
       "      <td>87.0</td>\n",
       "      <td>75.0</td>\n",
       "    </tr>\n",
       "  </tbody>\n",
       "</table>\n",
       "<p>9183 rows × 12 columns</p>\n",
       "</div>"
      ],
      "text/plain": [
       "       precinct  G18DStSen  G18DHOR  G18DSEN  votes green State Senate  \\\n",
       "0      Adams,10        0.0    108.0    120.0                       0.0   \n",
       "1     Adams,100        0.0    421.0    477.0                       0.0   \n",
       "2     Adams,110        0.0    455.0    495.0                       0.0   \n",
       "3     Adams,120        0.0    181.0    210.0                       0.0   \n",
       "4     Adams,130        0.0    380.0    421.0                       0.0   \n",
       "...         ...        ...      ...      ...                       ...   \n",
       "9178   York,950      860.0   1016.0   1052.0                       0.0   \n",
       "9179   York,960      256.0    285.0    283.0                       0.0   \n",
       "9180   York,970        0.0    560.0    602.0                       0.0   \n",
       "9181   York,980        0.0    234.0    263.0                       0.0   \n",
       "9182   York,990        0.0     36.0     39.0                       0.0   \n",
       "\n",
       "      votes green US Senate  G18LStSen  G18LHOR  votes libertarian US Senate  \\\n",
       "0                       2.0        0.0      0.0                          5.0   \n",
       "1                       8.0        0.0      0.0                          6.0   \n",
       "2                       3.0        0.0      0.0                          8.0   \n",
       "3                       6.0        0.0      0.0                          8.0   \n",
       "4                       5.0        0.0      0.0                         17.0   \n",
       "...                     ...        ...      ...                          ...   \n",
       "9178                   16.0        0.0      0.0                         24.0   \n",
       "9179                   12.0        0.0      0.0                         18.0   \n",
       "9180                   14.0        0.0      0.0                         34.0   \n",
       "9181                    6.0        0.0      0.0                         11.0   \n",
       "9182                    2.0        0.0      0.0                          4.0   \n",
       "\n",
       "      G18RStSen  G18RHOR  G18RSEN  \n",
       "0           0.0    201.0    183.0  \n",
       "1           0.0    921.0    863.0  \n",
       "2           0.0    499.0    456.0  \n",
       "3           0.0    489.0    448.0  \n",
       "4           0.0    494.0    436.0  \n",
       "...         ...      ...      ...  \n",
       "9178     1811.0   1655.0   1586.0  \n",
       "9179      586.0    565.0    529.0  \n",
       "9180        0.0   1506.0   1423.0  \n",
       "9181        0.0    806.0    756.0  \n",
       "9182        0.0     87.0     75.0  \n",
       "\n",
       "[9183 rows x 12 columns]"
      ]
     },
     "execution_count": 6,
     "metadata": {},
     "output_type": "execute_result"
    }
   ],
   "source": [
    "state_df_piv_mit"
   ]
  },
  {
   "cell_type": "code",
   "execution_count": 7,
   "metadata": {
    "tags": []
   },
   "outputs": [
    {
     "name": "stdout",
     "output_type": "stream",
     "text": [
      "candidate\n",
      "Kenneth V Krawchuk      49232\n",
      "Paul Glover             27797\n",
      "Scott R Wagner        2040169\n",
      "Thomas W Wolf         2895848\n",
      "Name: votes, dtype: int64\n"
     ]
    },
    {
     "data": {
      "text/plain": [
       "1.000067687691753"
      ]
     },
     "execution_count": 7,
     "metadata": {},
     "output_type": "execute_result"
    }
   ],
   "source": [
    "wolf_votes_nytimes = 2895652 \n",
    "gov_can_to_votes = state_df_mit[state_df_mit.office == 'Governor'].groupby('candidate').votes.sum()\n",
    "print(gov_can_to_votes)\n",
    "gov_can_to_votes['Thomas W Wolf'] / wolf_votes_nytimes"
   ]
  },
  {
   "cell_type": "markdown",
   "metadata": {},
   "source": [
    "Results don't match perfectly, but Tom Wolf's vote count only differs by 0.0067687691753 %"
   ]
  },
  {
   "cell_type": "code",
   "execution_count": 8,
   "metadata": {},
   "outputs": [
    {
     "ename": "ImportError",
     "evalue": "The descartes package is required for plotting polygons in geopandas.",
     "output_type": "error",
     "traceback": [
      "\u001b[0;31m---------------------------------------------------------------------------\u001b[0m",
      "\u001b[0;31mModuleNotFoundError\u001b[0m                       Traceback (most recent call last)",
      "\u001b[0;32m/usr/local/lib/python3.7/site-packages/geopandas/plotting.py\u001b[0m in \u001b[0;36mplot_polygon_collection\u001b[0;34m(ax, geoms, values, color, cmap, vmin, vmax, **kwargs)\u001b[0m\n\u001b[1;32m     86\u001b[0m     \u001b[0;32mtry\u001b[0m\u001b[0;34m:\u001b[0m\u001b[0;34m\u001b[0m\u001b[0;34m\u001b[0m\u001b[0m\n\u001b[0;32m---> 87\u001b[0;31m         \u001b[0;32mfrom\u001b[0m \u001b[0mdescartes\u001b[0m\u001b[0;34m.\u001b[0m\u001b[0mpatch\u001b[0m \u001b[0;32mimport\u001b[0m \u001b[0mPolygonPatch\u001b[0m\u001b[0;34m\u001b[0m\u001b[0;34m\u001b[0m\u001b[0m\n\u001b[0m\u001b[1;32m     88\u001b[0m     \u001b[0;32mexcept\u001b[0m \u001b[0mImportError\u001b[0m\u001b[0;34m:\u001b[0m\u001b[0;34m\u001b[0m\u001b[0;34m\u001b[0m\u001b[0m\n",
      "\u001b[0;31mModuleNotFoundError\u001b[0m: No module named 'descartes'",
      "\nDuring handling of the above exception, another exception occurred:\n",
      "\u001b[0;31mImportError\u001b[0m                               Traceback (most recent call last)",
      "\u001b[0;32m<ipython-input-8-9c2f993d1a7a>\u001b[0m in \u001b[0;36m<module>\u001b[0;34m\u001b[0m\n\u001b[1;32m      2\u001b[0m \u001b[0mgdf\u001b[0m\u001b[0;34m[\u001b[0m\u001b[0;34m'county'\u001b[0m\u001b[0;34m]\u001b[0m \u001b[0;34m=\u001b[0m \u001b[0mgdf\u001b[0m\u001b[0;34m[\u001b[0m\u001b[0;34m'COUNTYFP'\u001b[0m\u001b[0;34m]\u001b[0m\u001b[0;34m.\u001b[0m\u001b[0mmap\u001b[0m\u001b[0;34m(\u001b[0m\u001b[0mget_county_name_pa\u001b[0m\u001b[0;34m)\u001b[0m\u001b[0;34m\u001b[0m\u001b[0;34m\u001b[0m\u001b[0m\n\u001b[1;32m      3\u001b[0m \u001b[0mgdf\u001b[0m \u001b[0;34m=\u001b[0m \u001b[0mgdf\u001b[0m\u001b[0;34m[\u001b[0m\u001b[0;34m[\u001b[0m\u001b[0;34m'STATEFP'\u001b[0m\u001b[0;34m,\u001b[0m \u001b[0;34m'county'\u001b[0m\u001b[0;34m,\u001b[0m \u001b[0;34m'COUNTYFP'\u001b[0m\u001b[0;34m,\u001b[0m \u001b[0;34m'VTDST'\u001b[0m\u001b[0;34m,\u001b[0m \u001b[0;34m'NAMELSAD'\u001b[0m\u001b[0;34m,\u001b[0m \u001b[0;34m'VTDI'\u001b[0m\u001b[0;34m,\u001b[0m \u001b[0;34m'LSAD'\u001b[0m\u001b[0;34m,\u001b[0m \u001b[0;34m'CHNG_TYPE'\u001b[0m\u001b[0;34m,\u001b[0m \u001b[0;34m'ORIG_NAME'\u001b[0m\u001b[0;34m,\u001b[0m \u001b[0;34m'ORIG_CODE'\u001b[0m\u001b[0;34m,\u001b[0m \u001b[0;34m'RELATE'\u001b[0m\u001b[0;34m,\u001b[0m \u001b[0;34m'NAME'\u001b[0m\u001b[0;34m,\u001b[0m \u001b[0;34m'VINTAGE'\u001b[0m\u001b[0;34m,\u001b[0m \u001b[0;34m'FUNCSTAT'\u001b[0m\u001b[0;34m,\u001b[0m \u001b[0;34m'JUSTIFY'\u001b[0m\u001b[0;34m,\u001b[0m \u001b[0;34m'MTFCC'\u001b[0m\u001b[0;34m,\u001b[0m \u001b[0;34m'geometry'\u001b[0m\u001b[0;34m]\u001b[0m\u001b[0;34m]\u001b[0m\u001b[0;34m\u001b[0m\u001b[0;34m\u001b[0m\u001b[0m\n\u001b[0;32m----> 4\u001b[0;31m \u001b[0mgdf\u001b[0m\u001b[0;34m.\u001b[0m\u001b[0mplot\u001b[0m\u001b[0;34m(\u001b[0m\u001b[0;34m)\u001b[0m\u001b[0;34m\u001b[0m\u001b[0;34m\u001b[0m\u001b[0m\n\u001b[0m\u001b[1;32m      5\u001b[0m \u001b[0mplt\u001b[0m\u001b[0;34m.\u001b[0m\u001b[0mshow\u001b[0m\u001b[0;34m(\u001b[0m\u001b[0;34m)\u001b[0m\u001b[0;34m\u001b[0m\u001b[0;34m\u001b[0m\u001b[0m\n",
      "\u001b[0;32m/usr/local/lib/python3.7/site-packages/geopandas/geodataframe.py\u001b[0m in \u001b[0;36mplot\u001b[0;34m(self, *args, **kwargs)\u001b[0m\n\u001b[1;32m    615\u001b[0m         \u001b[0;32mfrom\u001b[0m \u001b[0mthere\u001b[0m\u001b[0;34m.\u001b[0m\u001b[0;34m\u001b[0m\u001b[0;34m\u001b[0m\u001b[0m\n\u001b[1;32m    616\u001b[0m         \"\"\"\n\u001b[0;32m--> 617\u001b[0;31m         \u001b[0;32mreturn\u001b[0m \u001b[0mplot_dataframe\u001b[0m\u001b[0;34m(\u001b[0m\u001b[0mself\u001b[0m\u001b[0;34m,\u001b[0m \u001b[0;34m*\u001b[0m\u001b[0margs\u001b[0m\u001b[0;34m,\u001b[0m \u001b[0;34m**\u001b[0m\u001b[0mkwargs\u001b[0m\u001b[0;34m)\u001b[0m\u001b[0;34m\u001b[0m\u001b[0;34m\u001b[0m\u001b[0m\n\u001b[0m\u001b[1;32m    618\u001b[0m \u001b[0;34m\u001b[0m\u001b[0m\n\u001b[1;32m    619\u001b[0m     \u001b[0mplot\u001b[0m\u001b[0;34m.\u001b[0m\u001b[0m__doc__\u001b[0m \u001b[0;34m=\u001b[0m \u001b[0mplot_dataframe\u001b[0m\u001b[0;34m.\u001b[0m\u001b[0m__doc__\u001b[0m\u001b[0;34m\u001b[0m\u001b[0;34m\u001b[0m\u001b[0m\n",
      "\u001b[0;32m/usr/local/lib/python3.7/site-packages/geopandas/plotting.py\u001b[0m in \u001b[0;36mplot_dataframe\u001b[0;34m(df, column, cmap, color, ax, cax, categorical, legend, scheme, k, vmin, vmax, markersize, figsize, legend_kwds, classification_kwds, **style_kwds)\u001b[0m\n\u001b[1;32m    523\u001b[0m             \u001b[0mfigsize\u001b[0m\u001b[0;34m=\u001b[0m\u001b[0mfigsize\u001b[0m\u001b[0;34m,\u001b[0m\u001b[0;34m\u001b[0m\u001b[0;34m\u001b[0m\u001b[0m\n\u001b[1;32m    524\u001b[0m             \u001b[0mmarkersize\u001b[0m\u001b[0;34m=\u001b[0m\u001b[0mmarkersize\u001b[0m\u001b[0;34m,\u001b[0m\u001b[0;34m\u001b[0m\u001b[0;34m\u001b[0m\u001b[0m\n\u001b[0;32m--> 525\u001b[0;31m             \u001b[0;34m**\u001b[0m\u001b[0mstyle_kwds\u001b[0m\u001b[0;34m\u001b[0m\u001b[0;34m\u001b[0m\u001b[0m\n\u001b[0m\u001b[1;32m    526\u001b[0m         )\n\u001b[1;32m    527\u001b[0m \u001b[0;34m\u001b[0m\u001b[0m\n",
      "\u001b[0;32m/usr/local/lib/python3.7/site-packages/geopandas/plotting.py\u001b[0m in \u001b[0;36mplot_series\u001b[0;34m(s, cmap, color, ax, figsize, **style_kwds)\u001b[0m\n\u001b[1;32m    362\u001b[0m         \u001b[0mvalues_\u001b[0m \u001b[0;34m=\u001b[0m \u001b[0mvalues\u001b[0m\u001b[0;34m[\u001b[0m\u001b[0mpoly_idx\u001b[0m\u001b[0;34m]\u001b[0m \u001b[0;32mif\u001b[0m \u001b[0mcmap\u001b[0m \u001b[0;32melse\u001b[0m \u001b[0;32mNone\u001b[0m\u001b[0;34m\u001b[0m\u001b[0;34m\u001b[0m\u001b[0m\n\u001b[1;32m    363\u001b[0m         plot_polygon_collection(\n\u001b[0;32m--> 364\u001b[0;31m             \u001b[0max\u001b[0m\u001b[0;34m,\u001b[0m \u001b[0mpolys\u001b[0m\u001b[0;34m,\u001b[0m \u001b[0mvalues_\u001b[0m\u001b[0;34m,\u001b[0m \u001b[0mfacecolor\u001b[0m\u001b[0;34m=\u001b[0m\u001b[0mfacecolor\u001b[0m\u001b[0;34m,\u001b[0m \u001b[0mcmap\u001b[0m\u001b[0;34m=\u001b[0m\u001b[0mcmap\u001b[0m\u001b[0;34m,\u001b[0m \u001b[0;34m**\u001b[0m\u001b[0mstyle_kwds\u001b[0m\u001b[0;34m\u001b[0m\u001b[0;34m\u001b[0m\u001b[0m\n\u001b[0m\u001b[1;32m    365\u001b[0m         )\n\u001b[1;32m    366\u001b[0m \u001b[0;34m\u001b[0m\u001b[0m\n",
      "\u001b[0;32m/usr/local/lib/python3.7/site-packages/geopandas/plotting.py\u001b[0m in \u001b[0;36mplot_polygon_collection\u001b[0;34m(ax, geoms, values, color, cmap, vmin, vmax, **kwargs)\u001b[0m\n\u001b[1;32m     88\u001b[0m     \u001b[0;32mexcept\u001b[0m \u001b[0mImportError\u001b[0m\u001b[0;34m:\u001b[0m\u001b[0;34m\u001b[0m\u001b[0;34m\u001b[0m\u001b[0m\n\u001b[1;32m     89\u001b[0m         raise ImportError(\n\u001b[0;32m---> 90\u001b[0;31m             \u001b[0;34m\"The descartes package is required for plotting polygons in geopandas.\"\u001b[0m\u001b[0;34m\u001b[0m\u001b[0;34m\u001b[0m\u001b[0m\n\u001b[0m\u001b[1;32m     91\u001b[0m         )\n\u001b[1;32m     92\u001b[0m     \u001b[0;32mfrom\u001b[0m \u001b[0mmatplotlib\u001b[0m\u001b[0;34m.\u001b[0m\u001b[0mcollections\u001b[0m \u001b[0;32mimport\u001b[0m \u001b[0mPatchCollection\u001b[0m\u001b[0;34m\u001b[0m\u001b[0;34m\u001b[0m\u001b[0m\n",
      "\u001b[0;31mImportError\u001b[0m: The descartes package is required for plotting polygons in geopandas."
     ]
    },
    {
     "data": {
      "image/png": "[encoded data removed]",
      "text/plain": [
       "<Figure size 432x288 with 1 Axes>"
      ]
     },
     "metadata": {
      "needs_background": "light"
     },
     "output_type": "display_data"
    }
   ],
   "source": [
    "gdf = gpd.read_file('data/compiled')\n",
    "gdf['county'] = gdf['COUNTYFP'].map(get_county_name_pa)\n",
    "gdf = gdf[['STATEFP', 'county', 'COUNTYFP', 'VTDST', 'NAMELSAD', 'VTDI', 'LSAD', 'CHNG_TYPE', 'ORIG_NAME', 'ORIG_CODE', 'RELATE', 'NAME', 'VINTAGE', 'FUNCSTAT', 'JUSTIFY', 'MTFCC', 'geometry']]\n",
    "gdf.plot()\n",
    "plt.show()"
   ]
  },
  {
   "cell_type": "markdown",
   "metadata": {},
   "source": [
    "Census Partnership VTDs are missing shapefiles for Armstrong, Delaware, and Westmoreland counties"
   ]
  },
  {
   "cell_type": "code",
   "execution_count": null,
   "metadata": {},
   "outputs": [],
   "source": [
    "gdf.head()"
   ]
  },
  {
   "cell_type": "markdown",
   "metadata": {},
   "source": [
    "The precincts in MEDSL resutls look like the `VTDST` column in the VTD shapefile."
   ]
  },
  {
   "cell_type": "code",
   "execution_count": 9,
   "metadata": {},
   "outputs": [],
   "source": [
    "county_to_vtds_census = gdf.groupby('county')['VTDST'].unique().to_dict()\n",
    "county_to_vtds_medsl = state_df_mit.groupby('county')['prec_vtd'].unique().to_dict()"
   ]
  },
  {
   "cell_type": "code",
   "execution_count": 10,
   "metadata": {
    "tags": []
   },
   "outputs": [
    {
     "name": "stdout",
     "output_type": "stream",
     "text": [
      "{'Armstrong County', 'Delaware County', 'Westmoreland County'}\n"
     ]
    },
    {
     "data": {
      "text/plain": [
       "set()"
      ]
     },
     "execution_count": 10,
     "metadata": {},
     "output_type": "execute_result"
    }
   ],
   "source": [
    "print(set(county_to_vtds_medsl.keys()).difference(set(county_to_vtds_census.keys())))\n",
    "set(county_to_vtds_census.keys()).difference(set(county_to_vtds_medsl.keys()))"
   ]
  },
  {
   "cell_type": "code",
   "execution_count": 11,
   "metadata": {
    "tags": []
   },
   "outputs": [
    {
     "name": "stdout",
     "output_type": "stream",
     "text": [
      "0.551% of VTDs match between the election results and census partnership files\n"
     ]
    }
   ],
   "source": [
    "county_to_vtd_diff = {}\n",
    "county_to_vtd_percentage_match = {}\n",
    "n_vtds_matches_statewide = 0\n",
    "n_vtds_total_statewide = 0\n",
    "for county_name in county_to_vtds_medsl.keys():\n",
    "    county_vtds_medsl = set(county_to_vtds_medsl[county_name])\n",
    "    county_vtds_census = set(county_to_vtds_census.get(county_name, set()))\n",
    "    vtd_diff = county_vtds_medsl.symmetric_difference(county_vtds_census)\n",
    "    vtd_intersection = county_vtds_medsl.intersection(county_vtds_census)\n",
    "    n_vtds_matches = len(vtd_intersection)\n",
    "    n_vtds_total = max(len(county_vtds_census), len(county_vtds_medsl))\n",
    "    county_to_vtd_diff[county_name] = vtd_diff\n",
    "    county_to_vtd_percentage_match[county_name] = n_vtds_matches/n_vtds_total\n",
    "    n_vtds_matches_statewide += n_vtds_matches\n",
    "    n_vtds_total_statewide += n_vtds_total\n",
    "\n",
    "print(\"{:.3f}% of VTDs match between the election results and census partnership files\".format(n_vtds_matches_statewide/n_vtds_total_statewide))"
   ]
  },
  {
   "cell_type": "code",
   "execution_count": 12,
   "metadata": {},
   "outputs": [],
   "source": [
    "df_percentage_match = pd.DataFrame.from_dict(county_to_vtd_percentage_match, orient='index').rename(columns={0:'percent match'})\n",
    "df_diff = pd.DataFrame.from_dict(county_to_vtd_diff, orient='index')"
   ]
  },
  {
   "cell_type": "code",
   "execution_count": 13,
   "metadata": {},
   "outputs": [
    {
     "data": {
      "text/plain": [
       "<matplotlib.axes._subplots.AxesSubplot at 0x116417590>"
      ]
     },
     "execution_count": 13,
     "metadata": {},
     "output_type": "execute_result"
    },
    {
     "data": {
      "image/png": "[encoded data removed]",
      "text/plain": [
       "<Figure size 432x288 with 1 Axes>"
      ]
     },
     "metadata": {
      "needs_background": "light"
     },
     "output_type": "display_data"
    }
   ],
   "source": [
    "df_percentage_match.sort_values(by='percent match').plot(kind='hist')"
   ]
  },
  {
   "cell_type": "markdown",
   "metadata": {},
   "source": [
    "Only 11 out of 67 counties match perfectly and 30 out of 67 counties have at least 90% matches. "
   ]
  },
  {
   "cell_type": "code",
   "execution_count": null,
   "metadata": {},
   "outputs": [],
   "source": [
    "df_percentage_match['Northumberland County']"
   ]
  },
  {
   "cell_type": "code",
   "execution_count": 15,
   "metadata": {},
   "outputs": [
    {
     "name": "stdout",
     "output_type": "stream",
     "text": [
      "Somerset County percent match    1.0\n",
      "Name: Somerset County, dtype: float64\n",
      "\n",
      "Schuylkill County percent match    0.512\n",
      "Name: Schuylkill County, dtype: float64\n",
      "\n",
      "Butler County percent match    0.757895\n",
      "Name: Butler County, dtype: float64\n",
      "\n",
      "Clearfield County percent match    0.971429\n",
      "Name: Clearfield County, dtype: float64\n",
      "\n",
      "Westmoreland County percent match    0.0\n",
      "Name: Westmoreland County, dtype: float64\n",
      "\n"
     ]
    }
   ],
   "source": [
    "cnty_id_lst = ['Somerset County', 'Schuylkill County','Butler County', 'Clearfield County', 'Westmoreland County']\n",
    "\n",
    "for county_id in cnty_id_lst:\n",
    "    print(county_id, df_percentage_match.loc[county_id])\n",
    "    print()"
   ]
  },
  {
   "cell_type": "markdown",
   "metadata": {},
   "source": [
    "### Open Elections\n",
    "\n",
    "Known issues: Inconsitent candidate names: Tom Wolf has around 10. Could address this by pivotting and aggregating votes by party + office. For now this can be ignored and we can just look at precinct matches"
   ]
  },
  {
   "cell_type": "code",
   "execution_count": 24,
   "metadata": {},
   "outputs": [
    {
     "data": {
      "text/html": [
       "<div>\n",
       "<style scoped>\n",
       "    .dataframe tbody tr th:only-of-type {\n",
       "        vertical-align: middle;\n",
       "    }\n",
       "\n",
       "    .dataframe tbody tr th {\n",
       "        vertical-align: top;\n",
       "    }\n",
       "\n",
       "    .dataframe thead th {\n",
       "        text-align: right;\n",
       "    }\n",
       "</style>\n",
       "<table border=\"1\" class=\"dataframe\">\n",
       "  <thead>\n",
       "    <tr style=\"text-align: right;\">\n",
       "      <th></th>\n",
       "      <th>precinct</th>\n",
       "      <th>county</th>\n",
       "      <th>COUNTYFP</th>\n",
       "      <th>office</th>\n",
       "      <th>district</th>\n",
       "      <th>candidate</th>\n",
       "      <th>party</th>\n",
       "      <th>votes</th>\n",
       "      <th>election_day</th>\n",
       "      <th>absentee</th>\n",
       "    </tr>\n",
       "  </thead>\n",
       "  <tbody>\n",
       "    <tr>\n",
       "      <th>0</th>\n",
       "      <td>Carroll Township</td>\n",
       "      <td>York County</td>\n",
       "      <td>42133</td>\n",
       "      <td>U.S. Senate</td>\n",
       "      <td>NaN</td>\n",
       "      <td>Bob CASEY, JR.</td>\n",
       "      <td>Dem</td>\n",
       "      <td>958</td>\n",
       "      <td>NaN</td>\n",
       "      <td>NaN</td>\n",
       "    </tr>\n",
       "    <tr>\n",
       "      <th>1</th>\n",
       "      <td>Carroll Township</td>\n",
       "      <td>York County</td>\n",
       "      <td>42133</td>\n",
       "      <td>U.S. Senate</td>\n",
       "      <td>NaN</td>\n",
       "      <td>Lou BARLETTA</td>\n",
       "      <td>Rep</td>\n",
       "      <td>1858</td>\n",
       "      <td>NaN</td>\n",
       "      <td>NaN</td>\n",
       "    </tr>\n",
       "    <tr>\n",
       "      <th>2</th>\n",
       "      <td>Carroll Township</td>\n",
       "      <td>York County</td>\n",
       "      <td>42133</td>\n",
       "      <td>U.S. Senate</td>\n",
       "      <td>NaN</td>\n",
       "      <td>Neal GALE</td>\n",
       "      <td>Grn</td>\n",
       "      <td>18</td>\n",
       "      <td>NaN</td>\n",
       "      <td>NaN</td>\n",
       "    </tr>\n",
       "    <tr>\n",
       "      <th>3</th>\n",
       "      <td>Carroll Township</td>\n",
       "      <td>York County</td>\n",
       "      <td>42133</td>\n",
       "      <td>U.S. Senate</td>\n",
       "      <td>NaN</td>\n",
       "      <td>Dale R. KERNS, JR.</td>\n",
       "      <td>LIB</td>\n",
       "      <td>32</td>\n",
       "      <td>NaN</td>\n",
       "      <td>NaN</td>\n",
       "    </tr>\n",
       "    <tr>\n",
       "      <th>4</th>\n",
       "      <td>Carroll Township</td>\n",
       "      <td>York County</td>\n",
       "      <td>42133</td>\n",
       "      <td>U.S. Senate</td>\n",
       "      <td>NaN</td>\n",
       "      <td>Write-In</td>\n",
       "      <td>NaN</td>\n",
       "      <td>0</td>\n",
       "      <td>NaN</td>\n",
       "      <td>NaN</td>\n",
       "    </tr>\n",
       "  </tbody>\n",
       "</table>\n",
       "</div>"
      ],
      "text/plain": [
       "           precinct       county COUNTYFP       office  district  \\\n",
       "0  Carroll Township  York County    42133  U.S. Senate       NaN   \n",
       "1  Carroll Township  York County    42133  U.S. Senate       NaN   \n",
       "2  Carroll Township  York County    42133  U.S. Senate       NaN   \n",
       "3  Carroll Township  York County    42133  U.S. Senate       NaN   \n",
       "4  Carroll Township  York County    42133  U.S. Senate       NaN   \n",
       "\n",
       "            candidate party votes  election_day  absentee  \n",
       "0      Bob CASEY, JR.   Dem   958           NaN       NaN  \n",
       "1        Lou BARLETTA   Rep  1858           NaN       NaN  \n",
       "2           Neal GALE   Grn    18           NaN       NaN  \n",
       "3  Dale R. KERNS, JR.   LIB    32           NaN       NaN  \n",
       "4            Write-In   NaN     0           NaN       NaN  "
      ]
     },
     "execution_count": 24,
     "metadata": {},
     "output_type": "execute_result"
    }
   ],
   "source": [
    "df_oe = pd.read_csv('data/open-elections/20181106__pa__general__precinct.csv')\n",
    "df_oe['county'] = df_oe['county'].apply(lambda x: x.strip() + ' County') \n",
    "df_oe['COUNTYFP'] = df_oe['county'].map(get_geoid_pa)\n",
    "df_oe = df_oe[['precinct', 'county', 'COUNTYFP', 'office', 'district', 'candidate', 'party', 'votes', 'election_day', 'absentee']]\n",
    "df_oe.head()"
   ]
  },
  {
   "cell_type": "code",
   "execution_count": 38,
   "metadata": {},
   "outputs": [],
   "source": [
    "county_to_prec_census = gdf.groupby('county')['NAME'].unique().to_dict()\n",
    "county_to_prec_oe = df_oe.groupby('county')['precinct'].unique().to_dict()"
   ]
  },
  {
   "cell_type": "code",
   "execution_count": 40,
   "metadata": {
    "tags": []
   },
   "outputs": [
    {
     "name": "stdout",
     "output_type": "stream",
     "text": [
      "['Abbottstown', 'Arendtsville', 'Bendersville', 'Berwick', 'Biglerville', 'Bonneauville', 'Butler', 'Carroll Valley #1', 'Carroll Valley #2', 'Conewago #1', 'Conewago #2', 'Cumberland #1', 'Cumberland #2', 'Cumberland #3', 'Cumberland #4', 'East Berlin', 'Fairfield', 'Franklin #1', 'Franklin #2', 'Freedom', 'Germany', 'Gettysburg #1', 'Gettysburg #2', 'Gettysburg #3', 'Hamilton', 'Hamiltonban', 'Highland', 'Huntington', 'Latimore', 'Liberty', 'Littlestown #1', 'Littlestown #2', 'McSherrystown #1', 'McSherrystown #2', 'Menallen', 'Mt Joy #1', 'Mt Joy #2', 'Mt Pleasant #1', 'Mt Pleasant #2', 'New Oxford', 'Oxford #1', 'Oxford #2', 'Reading #1', 'Reading #2', 'Straban #1', 'Straban #2', 'Tyrone', 'Union', 'York Springs'] \n",
      "\n",
      " ['ABBOTTSTOWN', 'ARENDTSVILLE', 'BENDERSVILLE', 'BERWICK', 'BIGLERVILLE', 'BONNEAUVILLE', 'BUTLER', 'CARROLL VALLEY DISTRICT 01', 'CARROLL VALLEY DISTRICT 02', 'CONEWAGO DISTRICT 01', 'CONEWAGO DISTRICT 02', 'CUMBERLAND DISTRICT 01', 'CUMBERLAND DISTRICT 02', 'CUMBERLAND DISTRICT 03', 'CUMBERLAND DISTRICT 04', 'EAST BERLIN', 'FAIRFIELD', 'FRANKLIN DISTRICT 01', 'FRANKLIN DISTRICT 02', 'FREEDOM', 'GERMANY', 'GETTYSBURG WARD 01 PRECINCT 01', 'GETTYSBURG WARD 02', 'GETTYSBURG WARD 03 PRECINCT 01', 'HAMILTON', 'HAMILTONBAN', 'HIGHLAND', 'HUNTINGTON DISTRICT 01', 'LATIMORE', 'LIBERTY', 'LITTLESTOWN WARD 01', 'LITTLESTOWN WARD 02', 'MCSHERRYSTOWN DISTRICT 01', 'MCSHERRYSTOWN DISTRICT 02', 'MENALLEN', 'MOUNT JOY DISTRICT 01', 'MOUNT JOY DISTRICT 02', 'MOUNT PLEASANT DISTRICT 01', 'MOUNT PLEASANT DISTRICT 02', 'NEW OXFORD', 'OXFORD DISTRICT 01', 'OXFORD DISTRICT 02', 'READING DISTRICT 01', 'READING DISTRICT 02', 'STRABAN DISTRICT 01', 'STRABAN DISTRICT 02', 'TYRONE', 'UNION', 'YORK SPRINGS']\n"
     ]
    }
   ],
   "source": [
    "for county_name in county_to_prec_oe.keys():\n",
    "    county_vtds_oe = sorted(list(county_to_prec_oe[county_name]))\n",
    "    county_vtds_census = sorted(list(county_to_prec_census.get(county_name, set())))\n",
    "    print(county_vtds_oe, '\\n\\n',county_vtds_census)\n",
    "    break"
   ]
  }
 ],
 "metadata": {
  "kernelspec": {
   "display_name": "Python 3.7.6 64-bit",
   "language": "python",
   "name": "python37664bit08330b9527de469baca8c5f5ed245830"
  },
  "language_info": {
   "codemirror_mode": {
    "name": "ipython",
    "version": 3
   },
   "file_extension": ".py",
   "mimetype": "text/x-python",
   "name": "python",
   "nbconvert_exporter": "python",
   "pygments_lexer": "ipython3",
   "version": "3.7.6"
  }
 },
 "nbformat": 4,
 "nbformat_minor": 4
}
