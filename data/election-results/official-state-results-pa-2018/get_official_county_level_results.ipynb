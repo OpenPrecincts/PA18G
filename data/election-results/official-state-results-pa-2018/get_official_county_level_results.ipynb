{
 "cells": [
  {
   "cell_type": "code",
   "execution_count": 1,
   "metadata": {},
   "outputs": [],
   "source": [
    "import requests\n",
    "import json\n",
    "from bs4 import BeautifulSoup"
   ]
  },
  {
   "cell_type": "code",
   "execution_count": 2,
   "metadata": {},
   "outputs": [],
   "source": [
    "def get_race_df(race_name, county_to_candidate_dict):\n",
    "    cnty_lst = []\n",
    "    for _, candidate_lst in county_to_candidate_dict.items():\n",
    "        cnty_lst.append(pd.DataFrame.from_dict(candidate_lst))\n",
    "    df = pd.concat(cnty_lst)\n",
    "    df['office'] = race_name\n",
    "    return df"
   ]
  },
  {
   "cell_type": "code",
   "execution_count": 3,
   "metadata": {},
   "outputs": [],
   "source": [
    "url_senate_race = 'https://electionreturns.pa.gov/api/ElectionReturn/GetCountyBreak?officeId=2&districtId=1&methodName=GetCountyBreak&electionid=63&electiontype=G&isactive=0'\n",
    "page_senate_race = requests.get(url_senate_race)\n",
    "json_senate_race = json.loads(json.loads(page_senate_race.content))\n",
    "county_to_senate_race_candidate_dict = json_senate_race['Election']['Statewide'][0]\n",
    "assert len(county_to_senate_race_candidate_dict) == 67\n",
    "df_senate_race = get_race_df('U.S. Senate', county_to_senate_race_candidate_dict)"
   ]
  },
  {
   "cell_type": "code",
   "execution_count": 4,
   "metadata": {},
   "outputs": [],
   "source": [
    "url_gubernatorial_race = 'https://electionreturns.pa.gov/api/ElectionReturn/GetCountyBreak?officeId=3&districtId=1&methodName=GetCountyBreak&electionid=63&electiontype=G&isactive=0'\n",
    "page_gubernatorial_race = requests.get(url_gubernatorial_race)\n",
    "json_gubernatorial_race = json.loads(json.loads(page_gubernatorial_race.content))\n",
    "county_to_gubernatorial_race_candidate_dict = json_gubernatorial_race['Election']['Statewide'][0]\n",
    "assert len(county_to_gubernatorial_race_candidate_dict) == 67\n",
    "df_gubernatorial_race = get_race_df('Governor', county_to_gubernatorial_race_candidate_dict)"
   ]
  },
  {
   "cell_type": "code",
   "execution_count": 5,
   "metadata": {},
   "outputs": [],
   "source": [
    "df = pd.concat([df_gubernatorial_race, df_senate_race])\n",
    "df = df.astype({'Votes':'int'})\n",
    "df.to_csv(\"data/pa-department-of-state-official-results.csv\")"
   ]
  }
 ],
 "metadata": {
  "kernelspec": {
   "display_name": "Python 3",
   "language": "python",
   "name": "python3"
  },
  "language_info": {
   "codemirror_mode": {
    "name": "ipython",
    "version": 3
   },
   "file_extension": ".py",
   "mimetype": "text/x-python",
   "name": "python",
   "nbconvert_exporter": "python",
   "pygments_lexer": "ipython3",
   "version": "3.7.4"
  }
 },
 "nbformat": 4,
 "nbformat_minor": 4
}
